{
 "cells": [
  {
   "cell_type": "code",
   "execution_count": 39,
   "metadata": {},
   "outputs": [],
   "source": [
    "from functools import reduce\n",
    "from flore.tree import ID3, FDT\n",
    "from flore.tree.tests.fdt_legacy_tree import FDT_Legacy\n",
    "from flore.tree.tests.id3_legacy_tree import ID3_Legacy\n",
    "from pytest import fixture\n",
    "\n",
    "from sklearn import datasets\n",
    "from sklearn.model_selection import train_test_split\n",
    "\n",
    "from flore.fuzzy import get_fuzzy_points, get_fuzzy_variables, get_dataset_membership\n",
    "from flore.datasets import load_compas, load_beer\n",
    "from flore.explanation import FID3_factual, m_factual, mr_factual, c_factual\n",
    "import numpy as np\n",
    "import pandas as pd\n",
    "import random\n",
    "import xml.etree.cElementTree as e"
   ]
  },
  {
   "cell_type": "code",
   "execution_count": 11,
   "metadata": {},
   "outputs": [],
   "source": [
    "from py4jfml.FuzzyInferenceSystem import FuzzyInferenceSystem\n",
    "from py4jfml.Py4Jfml import Py4jfml\n",
    "import os\n",
    "\n",
    "from py4jfml.knowledgebase.KnowledgeBaseType import KnowledgeBaseType\n",
    "from py4jfml.knowledgebasevariable.FuzzyVariableType import FuzzyVariableType\n",
    "from py4jfml.rule.AntecedentType import AntecedentType\n",
    "from py4jfml.rule.ClauseType import ClauseType\n",
    "from py4jfml.rule.ConsequentType import ConsequentType\n",
    "from py4jfml.rule.FuzzyRuleType import FuzzyRuleType\n",
    "from py4jfml.rulebase.MamdaniRuleBaseType import MamdaniRuleBaseType\n",
    "from py4jfml.term.FuzzyTermType import FuzzyTermType"
   ]
  },
  {
   "cell_type": "code",
   "execution_count": 3,
   "metadata": {},
   "outputs": [],
   "source": [
    "seed = 0\n",
    "random.seed(seed)\n",
    "np.random.seed(seed)"
   ]
  },
  {
   "cell_type": "code",
   "execution_count": 4,
   "metadata": {},
   "outputs": [],
   "source": [
    "def _get_fuzzy_element(fuzzy_X, idx):\n",
    "    element = {}\n",
    "    for feat in fuzzy_X:\n",
    "        element[feat] = {}\n",
    "        for fuzzy_set in fuzzy_X[feat]:\n",
    "            try:\n",
    "                element[feat][str(fuzzy_set)] = pd.to_numeric(fuzzy_X[feat][fuzzy_set][idx])\n",
    "            except ValueError:\n",
    "                element[feat][str(fuzzy_set)] = fuzzy_X[feat][fuzzy_set][idx]\n",
    "\n",
    "    return element"
   ]
  },
  {
   "cell_type": "code",
   "execution_count": 5,
   "metadata": {},
   "outputs": [],
   "source": [
    "dataset = load_beer()\n",
    "\n",
    "df = dataset['df']\n",
    "class_name = dataset['class_name']\n",
    "X = df.drop(class_name, axis=1)\n",
    "y = df[class_name]\n",
    "\n",
    "X_train, X_test, y_train, y_test = train_test_split(X, y, test_size=0.2, random_state=0)\n",
    "\n",
    "df_categorical_columns = dataset['discrete']\n",
    "class_name = dataset['class_name']\n",
    "df_categorical_columns.remove(class_name)\n",
    "df_numerical_columns = dataset['continuous']\n",
    "\n",
    "df_train = df.loc[X_train.index]\n",
    "df_test = df.loc[X_test.index]\n",
    "\n",
    "fuzzy_points = get_fuzzy_points(df_train, 'entropy', df_numerical_columns, class_name=class_name)\n",
    "discrete_fuzzy_values = {col: df_train[col].unique() for col in df_categorical_columns}\n",
    "fuzzy_variables = get_fuzzy_variables(fuzzy_points, discrete_fuzzy_values)\n",
    "df_train_membership = get_dataset_membership(df_train, fuzzy_variables)\n",
    "df_test_membership = get_dataset_membership(df_test, fuzzy_variables)\n",
    "\n",
    "fuzzy_element = _get_fuzzy_element(df_test_membership, 48)\n",
    "all_classes = dataset['possible_outcomes']"
   ]
  },
  {
   "cell_type": "code",
   "execution_count": 6,
   "metadata": {},
   "outputs": [],
   "source": [
    "new_fdt = FDT(df_train_membership.keys())\n",
    "new_fdt.fit(df_train_membership, y_train.to_numpy())\n",
    "rules = new_fdt.to_rule_based_system()"
   ]
  },
  {
   "cell_type": "code",
   "execution_count": 92,
   "metadata": {},
   "outputs": [],
   "source": [
    "membership_function_names = ['MF0', 'MF1', 'MF2', 'MF3', 'MF4', 'MF5', 'MF6', 'MF7', 'MF8', 'MF9']\n",
    "xml_name = 'POTATO'\n"
   ]
  },
  {
   "cell_type": "code",
   "execution_count": 104,
   "metadata": {},
   "outputs": [
    {
     "data": {
      "text/plain": [
       "FuzzyVariable(name='color', fuzzy_sets=[FuzzyContinuousSet(name='0.0', fuzzy_points=[0.0, 0.0, 4.0]), FuzzyContinuousSet(name='4.0', fuzzy_points=[0.0, 4.0, 5.0]), FuzzyContinuousSet(name='5.0', fuzzy_points=[4.0, 5.0, 7.0]), FuzzyContinuousSet(name='7.0', fuzzy_points=[5.0, 7.0, 12.0]), FuzzyContinuousSet(name='12.0', fuzzy_points=[7.0, 12.0, 16.0]), FuzzyContinuousSet(name='16.0', fuzzy_points=[12.0, 16.0, 23.0]), FuzzyContinuousSet(name='23.0', fuzzy_points=[16.0, 23.0, 29.0]), FuzzyContinuousSet(name='29.0', fuzzy_points=[23.0, 29.0, 45.0]), FuzzyContinuousSet(name='45.0', fuzzy_points=[29.0, 45.0, 45.0])])"
      ]
     },
     "execution_count": 104,
     "metadata": {},
     "output_type": "execute_result"
    }
   ],
   "source": [
    "fuzzy_variables[0]"
   ]
  },
  {
   "cell_type": "code",
   "execution_count": 108,
   "metadata": {},
   "outputs": [],
   "source": [
    "var_mapping = {\n",
    "    'color': 'Color',\n",
    "    'strength': 'Strength',\n",
    "    'bitterness': 'Bitterness',\n",
    "    'beer_style': 'Beer-Style'\n",
    "}"
   ]
  },
  {
   "cell_type": "code",
   "execution_count": 14,
   "metadata": {},
   "outputs": [],
   "source": [
    "iris = FuzzyInferenceSystem(\"POTATO\")\n",
    "\n",
    "#KNOWLEDGE BASE\n",
    "kb = KnowledgeBaseType()\n",
    "iris.setKnowledgeBase(kb)"
   ]
  },
  {
   "cell_type": "code",
   "execution_count": 105,
   "metadata": {},
   "outputs": [],
   "source": [
    "def get_fuzzy_variables_xml(fuzzy_variables, all_classes, class_name):\n",
    "    kb = e.Element(\"knowledgeBase\")\n",
    "    mf_names = {}\n",
    "    for fv in fuzzy_variables:\n",
    "        attrs = {}\n",
    "        attrs['name'] = var_mapping[fv.name]\n",
    "        attrs['scale'] = ''\n",
    "        attrs['domainleft'] = str(fv.fuzzy_sets[0].fuzzy_points[0])\n",
    "        attrs['domainright'] = str(fv.fuzzy_sets[-1].fuzzy_points[-1])\n",
    "        attrs['type'] = 'input'\n",
    "        ffv = e.SubElement(kb, \"fuzzyVariable\", attrib=attrs)\n",
    "        mf_names[fv.name] = {}\n",
    "        for i, fs in enumerate(fv.fuzzy_sets):\n",
    "            ft_attrs = {}\n",
    "            ft_attrs['name'] = membership_function_names[i]\n",
    "            mf_names[fv.name][fs.name] = membership_function_names[i]\n",
    "            ft_attrs['complement'] = 'false'\n",
    "            ft = e.SubElement(ffv, \"fuzzyTerm\", attrib=ft_attrs)\n",
    "            ts_attrs = {}\n",
    "            ts_attrs['param1'] = str(fs.fuzzy_points[0])\n",
    "            ts_attrs['param2'] = str(fs.fuzzy_points[1])\n",
    "            ts_attrs['param3'] = str(fs.fuzzy_points[1])\n",
    "            ts_attrs['param4'] = str(fs.fuzzy_points[2])\n",
    "            e.SubElement(ft, \"trapezoidShape\", attrib=ts_attrs)\n",
    "\n",
    "    attrs = {}\n",
    "    attrs['name'] = var_mapping[class_name]\n",
    "    attrs['scale'] = ''\n",
    "    attrs['domainleft'] = '1.0'\n",
    "    attrs['domainright'] = str(float(len(all_classes)))\n",
    "    attrs['type'] = 'output'\n",
    "    attrs['accumulation'] = 'MAX'\n",
    "    attrs['defuzzifier'] = 'MOM'\n",
    "    attrs['defaultValue'] = '1.0'\n",
    "    cv = e.SubElement(kb, \"fuzzyVariable\", attrib=attrs)\n",
    "\n",
    "    ft_attrs = {}\n",
    "    ft_attrs['name'] = all_classes[0]\n",
    "    ft_attrs['complement'] = 'false'\n",
    "    cft = e.SubElement(cv, \"fuzzyTerm\", attrib=ft_attrs)\n",
    "    ts_attrs = {}\n",
    "    ts_attrs['param1'] = str(\"1.0\")\n",
    "    ts_attrs['param2'] = str(\"1.0\")\n",
    "    ts_attrs['param3'] = str(\"2.0\")\n",
    "    e.SubElement(cft, \"triangleShape\", attrib=ts_attrs)\n",
    "\n",
    "    for i, cl in enumerate(all_classes[1:-1]):\n",
    "        ft_attrs = {}\n",
    "        ft_attrs['name'] = cl\n",
    "        ft_attrs['complement'] = 'false'\n",
    "        cft = e.SubElement(cv, \"fuzzyTerm\", attrib=ft_attrs)\n",
    "        ts_attrs = {}\n",
    "        ts_attrs['param1'] = str(float(i+1))\n",
    "        ts_attrs['param2'] = str(float(i+2))\n",
    "        ts_attrs['param3'] = str(float(i+3))\n",
    "        e.SubElement(cft, \"triangleShape\", attrib=ts_attrs)\n",
    "    \n",
    "    ft_attrs = {}\n",
    "    ft_attrs['name'] = all_classes[-1]\n",
    "    ft_attrs['complement'] = 'false'\n",
    "    cft = e.SubElement(cv, \"fuzzyTerm\", attrib=ft_attrs)\n",
    "    ts_attrs = {}\n",
    "    ts_attrs['param1'] = str(float(len(all_classes)-1))\n",
    "    ts_attrs['param2'] = str(float(len(all_classes)))\n",
    "    ts_attrs['param3'] = str(float(len(all_classes)))\n",
    "    e.SubElement(cft, \"triangleShape\", attrib=ts_attrs)\n",
    "    \n",
    "    return kb, mf_names"
   ]
  },
  {
   "cell_type": "code",
   "execution_count": 82,
   "metadata": {},
   "outputs": [
    {
     "data": {
      "text/plain": [
       "(('color', '0.0'), ('bitterness', '8.0'))"
      ]
     },
     "execution_count": 82,
     "metadata": {},
     "output_type": "execute_result"
    }
   ],
   "source": [
    "rules[0].antecedent"
   ]
  },
  {
   "cell_type": "code",
   "execution_count": 106,
   "metadata": {},
   "outputs": [],
   "source": [
    "def get_rules_xml(rule_list, class_name, mf_names):\n",
    "    rb_attrs = {}\n",
    "    rb_attrs['name'] = 'rulebase'\n",
    "    rb_attrs['activationMethod'] = 'MIN'\n",
    "    rb_attrs['andMethod'] = 'MIN'\n",
    "    rb_attrs['orMethod'] = 'MAX'\n",
    "    rb = e.Element(\"mamdaniRuleBase\", attrib=rb_attrs)\n",
    "\n",
    "    for i, rule in enumerate(rule_list):\n",
    "        r_attrs = {}\n",
    "        r_attrs['name'] = f'rule{i+1}'\n",
    "        r_attrs['andMethod'] = 'MIN'\n",
    "        r_attrs['connector'] = 'and'\n",
    "        r_attrs['weight'] = str(rule.weight)\n",
    "        r = e.SubElement(rb, \"rule\", r_attrs)\n",
    "        ante = e.SubElement(r, 'antecedent')\n",
    "        for var, term in rule.antecedent:\n",
    "            clause = e.SubElement(ante, 'clause')\n",
    "            xml_var = e.SubElement(clause, 'variable')\n",
    "            xml_var.text = var_mapping[var]\n",
    "            xml_term = e.SubElement(clause, 'term')\n",
    "            xml_term.text = mf_names[var][term]\n",
    "        \n",
    "        conse = e.SubElement(r, 'consequent')\n",
    "        then = e.SubElement(conse, 'then')\n",
    "        clause = e.SubElement(then, 'clause')\n",
    "        xml_var = e.SubElement(clause, 'variable')\n",
    "        xml_var.text = var_mapping[class_name]\n",
    "        xml_term = e.SubElement(clause, 'term')\n",
    "        xml_term.text = rule.consequent\n",
    "    \n",
    "    return rb\n",
    "    "
   ]
  },
  {
   "cell_type": "code",
   "execution_count": 109,
   "metadata": {},
   "outputs": [],
   "source": [
    "fv_tree, mf_names = get_fuzzy_variables_xml(fuzzy_variables, all_classes, class_name)\n",
    "rules_tree = get_rules_xml(rules, class_name, mf_names)\n"
   ]
  },
  {
   "cell_type": "code",
   "execution_count": 110,
   "metadata": {},
   "outputs": [],
   "source": [
    "root_attrs = {}\n",
    "root_attrs['xmlns'] = 'http://www.ieee1855.org'\n",
    "root_attrs['name'] = xml_name\n",
    "root = e.Element(\"fuzzySystem\", attrib=root_attrs)\n",
    "root.append(fv_tree)\n",
    "root.append(rules_tree)"
   ]
  },
  {
   "cell_type": "code",
   "execution_count": 111,
   "metadata": {},
   "outputs": [],
   "source": [
    "a = e.ElementTree(root)\n",
    "a.write('test.xml', xml_declaration=True, encoding='UTF8')"
   ]
  },
  {
   "cell_type": "code",
   "execution_count": null,
   "metadata": {},
   "outputs": [],
   "source": []
  }
 ],
 "metadata": {
  "interpreter": {
   "hash": "85bf03ef878d4f909b56ea8de9137b14b43b7d4869cc056aac2dd59babcd45c9"
  },
  "kernelspec": {
   "display_name": "Python 3.10.0 ('.venv': venv)",
   "language": "python",
   "name": "python3"
  },
  "language_info": {
   "codemirror_mode": {
    "name": "ipython",
    "version": 3
   },
   "file_extension": ".py",
   "mimetype": "text/x-python",
   "name": "python",
   "nbconvert_exporter": "python",
   "pygments_lexer": "ipython3",
   "version": "3.10.0"
  },
  "orig_nbformat": 4
 },
 "nbformat": 4,
 "nbformat_minor": 2
}
